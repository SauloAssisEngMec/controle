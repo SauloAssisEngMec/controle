{
 "cells": [
  {
   "cell_type": "markdown",
   "id": "010012a3",
   "metadata": {},
   "source": [
    "# Mínimos Quadrados para o modelo ARX\n",
    "Conforme códigos disponibilizados em https://github.com/tassianors/ident_sistemas\n",
    "\n",
    "Favor ler o artigo: https://github.com/dbr-ufs/controle/blob/main/system_identification-final.pdf"
   ]
  },
  {
   "cell_type": "code",
   "execution_count": 1,
   "id": "099ba1c1",
   "metadata": {},
   "outputs": [
    {
     "name": "stdout",
     "output_type": "stream",
     "text": [
      "Valores médios \n",
      "ma =  0.020207\n",
      "mb =  0.86294\n",
      "mc =  0.99920\n"
     ]
    }
   ],
   "source": [
    "%====================================\n",
    "% Identificacao de sistemas\n",
    "% Tassiano Neuhaus\n",
    "% tassianors@gmail.com\n",
    "% UFRGS\n",
    "%====================================\n",
    "graphics_toolkit (\"gnuplot\");\n",
    "\n",
    "% LOAD DATA\n",
    "data_in_4\n",
    "data_out_4\n",
    "\n",
    "% Defines\n",
    "% Number or unknown variables to be determined by this method\n",
    "n=3;\n",
    "step_size=1500;\n",
    "N=0;\n",
    "j=1;\n",
    "\n",
    "% Total number of points collected\n",
    "Ntot=size(input, 1);\n",
    "\n",
    "while N+step_size < Ntot\n",
    "    % load partial number of points\n",
    "    y=output(N+1:N+step_size,1);\n",
    "    u=input(N+1:N+step_size,1);\n",
    "\n",
    "    phy=zeros(step_size, n);\n",
    "    for t=3:step_size\n",
    "        phy(t, 1)=u(t-2);\n",
    "        phy(t, 2)=y(t-1);\n",
    "        phy(t, 3)=y(t-2);\n",
    "    end\n",
    "\n",
    "    % make sure, rank(phy) = n\n",
    "    teta=inv(phy'*phy)*phy'*y;\n",
    "    % to be used in graphic plotting\n",
    "    a(j)=teta(1);\n",
    "    b(j)=-teta(3);\n",
    "    c(j)=teta(2)-b(j);\n",
    "    j=j+1;\n",
    "    N=N+step_size;\n",
    "end\n",
    "PN=[a', b'];\n",
    "printf('Valores médios \\n')\n",
    "ma=mean(a)\n",
    "sa=std(a);\n",
    "mb=mean(b)\n",
    "mc=mean(c)"
   ]
  },
  {
   "cell_type": "code",
   "execution_count": 2,
   "id": "c21edd53",
   "metadata": {},
   "outputs": [],
   "source": [
    "% from here is only to plot the estimated points\n",
    "plot(a, b, 'bo');\n",
    "set(gcf,'Visible','on')\n",
    "hold;\n",
    "plot(ma, mb, 'rx');\n",
    "hold;\n",
    "title('Estimativa dos parametros a e b do modelo para uma referencia do tipo onda Quadrada. N=150')\n",
    "xlabel('Valor da estimativa para a variavel a')\n",
    "ylabel('Valor da estimativa para a variavel b')\n",
    "legend('Estimativas', 'Media')"
   ]
  },
  {
   "cell_type": "markdown",
   "id": "cf7cb07b-fcd7-4099-af27-21e160d6a745",
   "metadata": {},
   "source": [
    "# Método das variáveis instrumentais"
   ]
  },
  {
   "cell_type": "code",
   "execution_count": 3,
   "id": "8975bba4-641a-40a1-8300-f18142952c73",
   "metadata": {},
   "outputs": [
    {
     "name": "stdout",
     "output_type": "stream",
     "text": [
      "ma =  0.011375\n",
      "mb =  0.85381\n",
      "mc =  0.96209\n"
     ]
    }
   ],
   "source": [
    "%====================================\n",
    "% Identificacao de sistemas\n",
    "% Tassiano Neuhaus\n",
    "% tassianors@gmail.com\n",
    "% UFRGS\n",
    "%====================================\n",
    "\n",
    "% LOAD DATA\n",
    "data_in_4\n",
    "data_out_4\n",
    "\n",
    "% Defines\n",
    "% Number or unknown variables to be determined by this method\n",
    "n=3;\n",
    "step_size=1700;\n",
    "N=0;\n",
    "j=1;\n",
    "\n",
    "% Total number of points collected\n",
    "Ntot=size(input, 1);\n",
    "\n",
    "while N+step_size <= Ntot\n",
    "    % load partial number of points\n",
    "    y=output(N+1:N+step_size,1);\n",
    "    u=input(N+1:N+step_size,1);\n",
    "\n",
    "    phy=zeros(step_size, n);\n",
    "    z=zeros(step_size, n);\n",
    "    for t=3:step_size\n",
    "        phy(t, 1)=u(t-2);\n",
    "        phy(t, 2)=y(t-1);\n",
    "        phy(t, 3)=y(t-2);\n",
    "    end\n",
    "    for t=4:step_size\n",
    "        % auxiliary instrument z\n",
    "        z(t, 3)=u(t-1);\n",
    "        z(t, 2)=u(t-2);\n",
    "        z(t, 1)=u(t-3);\n",
    "    end\n",
    "\n",
    "    teta=inv(z'*phy)*z'*y;\n",
    "    % to be used in graphic plotting\n",
    "    a(j)=teta(1);\n",
    "    b(j)=-teta(3);\n",
    "    c(j)=teta(2)-b(j);\n",
    "    j=j+1;\n",
    "    N=N+step_size;\n",
    "end\n",
    "\n",
    "PN=[a', b'];\n",
    "ma=mean(a)\n",
    "mb=mean(b)\n",
    "mc=mean(c)"
   ]
  },
  {
   "cell_type": "code",
   "execution_count": 4,
   "id": "067bf2be-4c92-4b9f-9d31-2e917ee05ce6",
   "metadata": {},
   "outputs": [],
   "source": [
    "% from here is only to plot the estimated points\n",
    "figure\n",
    "plot(a, b, 'bo');\n",
    "hold;\n",
    "plot(ma, mb, 'rx');\n",
    "hold;\n",
    "title('Estimativa usando o metodo das variaveis instrumentais. Ref onda quadrada, N=150')\n",
    "xlabel('Valor da estimativa para a variavel a')\n",
    "ylabel('Valor da estimativa para a variavel b')\n",
    "legend('Estimativas', 'Media')"
   ]
  },
  {
   "cell_type": "markdown",
   "id": "1a7d8054-71e6-4894-bb72-d075519315b9",
   "metadata": {},
   "source": [
    "# Método dos minimos quadrados considerando o PID e a entrada em rampa"
   ]
  },
  {
   "cell_type": "code",
   "execution_count": 5,
   "id": "72d46dfb-dcbd-4a16-be83-a9b9cfddb8db",
   "metadata": {},
   "outputs": [
    {
     "name": "stdout",
     "output_type": "stream",
     "text": [
      "ma =  0.017292\n",
      "mb =  0.82180\n",
      "mc =  0.93323\n"
     ]
    }
   ],
   "source": [
    "%====================================\n",
    "% Identificacao de sistemas\n",
    "% Tassiano Neuhaus\n",
    "% tassianors@gmail.com\n",
    "% UFRGS\n",
    "%====================================\n",
    "\n",
    "% LOAD DATA\n",
    "data7\n",
    "\n",
    "% Defines\n",
    "% Number or unknown variables to be determined by this method\n",
    "n=4;\n",
    "step_size=150;\n",
    "N=0;\n",
    "j=1;\n",
    "\n",
    "% Total number of points collected\n",
    "Ntot=size(value, 1);\n",
    "\n",
    "while N+step_size <= Ntot\n",
    "    % load partial number of points\n",
    "    y=value(N+1:N+step_size,1);\n",
    "    u=value(N+1:N+step_size,2);\n",
    "\n",
    "    phy=zeros(step_size, n);\n",
    "    z=zeros(step_size, n);\n",
    "    for t=3:step_size\n",
    "        phy(t, 1)=u(t-1);\n",
    "        phy(t, 2)=u(t-2);\n",
    "        phy(t, 3)=y(t-1);\n",
    "        phy(t, 4)=y(t-2);\n",
    "    end\n",
    "    \n",
    "    % make sure, rank(phy) = n\n",
    "    teta=inv(phy'*phy)*phy'*y;\n",
    "    % to be used in graphic plotting\n",
    "    a(j)=teta(1)/5;\n",
    "    b(j)=-teta(4);\n",
    "    c(j)=teta(3)-b(j);\n",
    "    j=j+1;\n",
    "    N=N+step_size;\n",
    "end\n",
    "\n",
    "PN=[a', b'];\n",
    "ma=mean(a)\n",
    "mb=mean(b)\n",
    "mc=mean(c)"
   ]
  },
  {
   "cell_type": "code",
   "execution_count": 6,
   "id": "1dc2cbe2-d7e8-4a91-b09f-f2081143c83b",
   "metadata": {},
   "outputs": [],
   "source": [
    "% from here is only to plot the estimated points\n",
    "figure\n",
    "plot(a, b, 'bo');\n",
    "hold;\n",
    "plot(ma, mb, 'rx');\n",
    "hold;\n",
    "title('Estimativa usando o metodo dos min quadrados. Ref rampa, N=150')\n",
    "xlabel('Valor da estimativa para a variavel a')\n",
    "ylabel('Valor da estimativa para a variavel b')\n",
    "legend('Estimativas', 'Media')"
   ]
  },
  {
   "cell_type": "markdown",
   "id": "6ceeac1d-115a-4aa5-b70d-11e544405370",
   "metadata": {},
   "source": [
    "# MATLAB - System Identification Toolbox\n",
    "Para aqueles que possuem a licença do Matlab, existe um toolbox específico para identificar os parâmetros de uma função de transferência, executado pelos comandos:  <b>tfest</b> e <b>procest</b>\n",
    "\n",
    "No arquivo https://github.com/dbr-ufs/controle/blob/main/Rampa2_mod.m foi incluído as funções de identificação na  parte final do código. Perceba que o <b>procest</b> permite forçar o zero a coincidir com o controlador PD utilizado na aquisição de dados, fazendo Tz = kd/kp. Foi utilizado diversar formas de se calcular, explore as opções que o Toolbox disponibiliza. Infelizmente estes comandos ainda não foram implementados em Octave ou Jupyter, mas observe que o código acima supre essa demanda.\n",
    "\n",
    "Observe que, como $G(s) = \\frac{\\alpha.(k_p + k_d.s)}{s.(s+\\beta)}$, a função de transferência de malha fechada é\n",
    "$T(s) = \\frac{\\alpha.(k_p + k_d.s)}{s^2+\\beta.s+\\alpha.(k_p + k_d.s)}$.\n",
    "\n",
    "Reescrevendo, tem-se: $T(s) = \\frac{\\frac{k_d}{k_p}.s+1}{\\frac{1}{\\alpha.k_p}.s^2+\\frac{\\beta+\\alpha.k_d}{\\alpha.k_p}.s+1}$.\n",
    "\n",
    "Uma das funções de transferências identificadas tem o seguinte formato: $T(s) = K_p.\\frac{T_z.s+1}{T_w^2.s^2+2.\\zeta.T_w.s+1}$\n",
    "\n",
    "Igualando as duas equações acima, tem-se que: $K_p = 1$,  $T_z = \\frac{k_d}{k_p}$,\n",
    "$\\alpha = \\frac{1}{T_w^2.k_p}$ e $\\beta = 2.\\zeta.T_w.\\alpha.k_p-\\alpha.k_d$\n",
    "\n",
    "Depois de rodar o algoritmo acima, explore os resultados no Simulink: https://github.com/dbr-ufs/controle/blob/main/sim_rampa.slx"
   ]
  },
  {
   "cell_type": "markdown",
   "id": "808937ab-e200-4764-b21c-ab8bddffabe4",
   "metadata": {},
   "source": [
    "## Para saber mais\n",
    "\n",
    "Entre na pasta: https://github.com/dbr-ufs/controle/tree/main/Identifica%C3%A7%C3%A3o%20de%20Sistemas\n",
    "lá temos mais exemplos de dados para ser utilizado na  identificação de parâmetros"
   ]
  }
 ],
 "metadata": {
  "kernelspec": {
   "display_name": "Octave",
   "language": "octave",
   "name": "octave"
  },
  "language_info": {
   "file_extension": ".m",
   "help_links": [
    {
     "text": "GNU Octave",
     "url": "https://www.gnu.org/software/octave/support.html"
    },
    {
     "text": "Octave Kernel",
     "url": "https://github.com/Calysto/octave_kernel"
    },
    {
     "text": "MetaKernel Magics",
     "url": "https://metakernel.readthedocs.io/en/latest/source/README.html"
    }
   ],
   "mimetype": "text/x-octave",
   "name": "octave",
   "version": "4.2.2"
  }
 },
 "nbformat": 4,
 "nbformat_minor": 5
}
