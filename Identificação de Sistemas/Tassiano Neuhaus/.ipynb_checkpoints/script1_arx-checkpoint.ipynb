{
 "cells": [
  {
   "cell_type": "markdown",
   "id": "010012a3",
   "metadata": {},
   "source": [
    "# Script para Simulação do MQ para o modelo ARX\n",
    "Conforme disponibilizado em https://github.com/tassianors/ident_sistemas"
   ]
  },
  {
   "cell_type": "code",
   "execution_count": 1,
   "id": "099ba1c1",
   "metadata": {},
   "outputs": [
    {
     "name": "stdout",
     "output_type": "stream",
     "text": [
      "Valores médios \n",
      "ma = 0.020207\n",
      "mb = 0.8629\n",
      "mc = 0.9992\n"
     ]
    }
   ],
   "source": [
    "%====================================\n",
    "% Identificacao de sistemas\n",
    "% Tassiano Neuhaus\n",
    "% tassianors@gmail.com\n",
    "% UFRGS\n",
    "%====================================\n",
    "close all; clear all;\n",
    "\n",
    "% LOAD DATA\n",
    "data_in_4\n",
    "data_out_4\n",
    "\n",
    "% Defines\n",
    "% Number or unknown variables to be determined by this method\n",
    "n=3;\n",
    "step_size=1500;\n",
    "N=0;\n",
    "j=1;\n",
    "\n",
    "% Total number of points collected\n",
    "Ntot=size(input, 1);\n",
    "\n",
    "while N+step_size < Ntot\n",
    "    % load partial number of points\n",
    "    y=output(N+1:N+step_size,1);\n",
    "    u=input(N+1:N+step_size,1);\n",
    "\n",
    "    phy=zeros(step_size, n);\n",
    "    for t=3:step_size\n",
    "        phy(t, 1)=u(t-2);\n",
    "        phy(t, 2)=y(t-1);\n",
    "        phy(t, 3)=y(t-2);\n",
    "    end\n",
    "\n",
    "    % make sure, rank(phy) = n\n",
    "    teta=inv(phy'*phy)*phy'*y;\n",
    "    % to be used in graphic plotting\n",
    "    a(j)=teta(1);\n",
    "    b(j)=-teta(3);\n",
    "    c(j)=teta(2)-b(j);\n",
    "    j=j+1;\n",
    "    N=N+step_size;\n",
    "end\n",
    "PN=[a', b'];\n",
    "printf('Valores médios \\n')\n",
    "ma=mean(a)\n",
    "sa=std(a);\n",
    "mb=mean(b)\n",
    "mc=mean(c)"
   ]
  },
  {
   "cell_type": "code",
   "execution_count": 2,
   "id": "c21edd53",
   "metadata": {},
   "outputs": [
    {
     "data": {
      "image/png": "[encoded data removed]",
      "text/plain": [
       "<IPython.core.display.Image object>"
      ]
     },
     "metadata": {},
     "output_type": "display_data"
    }
   ],
   "source": [
    "% from here is only to plot the estimated points\n",
    "graphics_toolkit (\"gnuplot\");\n",
    "plot(a, b, 'bo');\n",
    "set(gcf,'Visible','on')\n",
    "hold;\n",
    "plot(ma, mb, 'rx');\n",
    "hold;\n",
    "title('Estimativa dos parametros a e b do modelo para uma referencia do tipo onda Quadrada. N=150')\n",
    "xlabel('Valor da estimativa para a variavel a')\n",
    "ylabel('Valor da estimativa para a variavel b')\n",
    "legend('Estimativas', 'Media')"
   ]
  },
  {
   "cell_type": "code",
   "execution_count": null,
   "id": "3cd14779",
   "metadata": {},
   "outputs": [],
   "source": []
  }
 ],
 "metadata": {
  "kernelspec": {
   "display_name": "Octave",
   "language": "octave",
   "name": "octave"
  },
  "language_info": {
   "file_extension": ".m",
   "help_links": [
    {
     "text": "GNU Octave",
     "url": "https://www.gnu.org/software/octave/support.html"
    },
    {
     "text": "Octave Kernel",
     "url": "https://github.com/Calysto/octave_kernel"
    },
    {
     "text": "MetaKernel Magics",
     "url": "https://metakernel.readthedocs.io/en/latest/source/README.html"
    }
   ],
   "mimetype": "text/x-octave",
   "name": "octave",
   "version": "6.2.0"
  }
 },
 "nbformat": 4,
 "nbformat_minor": 5
}
