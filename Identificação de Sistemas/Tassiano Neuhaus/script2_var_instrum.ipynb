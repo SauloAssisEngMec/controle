{
 "cells": [
  {
   "cell_type": "markdown",
   "id": "b4483639-4d52-4bcb-bf34-508275c6f488",
   "metadata": {},
   "source": [
    "# Script para Simulação do método das variáveis instrumentais\n",
    "Conforme código disponibilizado em https://github.com/tassianors/ident_sistemas"
   ]
  },
  {
   "cell_type": "code",
   "execution_count": 1,
   "id": "014329ba-b556-4ba4-aa30-080294ea422a",
   "metadata": {},
   "outputs": [
    {
     "name": "stdout",
     "output_type": "stream",
     "text": [
      "ma =  0.011375\n",
      "mb =  0.85381\n",
      "mc =  0.96209\n"
     ]
    }
   ],
   "source": [
    "%====================================\n",
    "% Identificacao de sistemas\n",
    "% Tassiano Neuhaus\n",
    "% tassianors@gmail.com\n",
    "% UFRGS\n",
    "%====================================\n",
    "close all; clear all;\n",
    "\n",
    "% LOAD DATA\n",
    "data_in_4\n",
    "data_out_4\n",
    "\n",
    "% Defines\n",
    "% Number or unknown variables to be determined by this method\n",
    "n=3;\n",
    "step_size=1700;\n",
    "N=0;\n",
    "j=1;\n",
    "\n",
    "% Total number of points collected\n",
    "Ntot=size(input, 1);\n",
    "\n",
    "while N+step_size <= Ntot\n",
    "    % load partial number of points\n",
    "    y=output(N+1:N+step_size,1);\n",
    "    u=input(N+1:N+step_size,1);\n",
    "\n",
    "    phy=zeros(step_size, n);\n",
    "    z=zeros(step_size, n);\n",
    "    for t=3:step_size\n",
    "        phy(t, 1)=u(t-2);\n",
    "        phy(t, 2)=y(t-1);\n",
    "        phy(t, 3)=y(t-2);\n",
    "    end\n",
    "    for t=4:step_size\n",
    "        % auxiliary instrument z\n",
    "        z(t, 3)=u(t-1);\n",
    "        z(t, 2)=u(t-2);\n",
    "        z(t, 1)=u(t-3);\n",
    "    end\n",
    "\n",
    "    teta=inv(z'*phy)*z'*y;\n",
    "    % to be used in graphic plotting\n",
    "    a(j)=teta(1);\n",
    "    b(j)=-teta(3);\n",
    "    c(j)=teta(2)-b(j);\n",
    "    j=j+1;\n",
    "    N=N+step_size;\n",
    "end\n",
    "\n",
    "PN=[a', b'];\n",
    "ma=mean(a)\n",
    "mb=mean(b)\n",
    "mc=mean(c)"
   ]
  },
  {
   "cell_type": "code",
   "execution_count": 13,
   "id": "d7f84702-f4f5-4593-ae77-a4a10b735b56",
   "metadata": {},
   "outputs": [],
   "source": [
    "% from here is only to plot the estimated points\n",
    "graphics_toolkit (\"gnuplot\");\n",
    "plot(a, b, 'bo');\n",
    "set(gcf,'Visible','on')\n",
    "hold;\n",
    "plot(ma, mb, 'rx');\n",
    "hold;\n",
    "title('Estimativa usando o metodo das variaveis instrumentais. Ref onda quadrada, N=150')\n",
    "xlabel('Valor da estimativa para a variavel a')\n",
    "ylabel('Valor da estimativa para a variavel b')\n",
    "legend('Estimativas', 'Media')"
   ]
  },
  {
   "cell_type": "code",
   "execution_count": null,
   "id": "54a8fe38-d881-4589-9d3b-dcfe1ab27c7a",
   "metadata": {},
   "outputs": [],
   "source": []
  }
 ],
 "metadata": {
  "kernelspec": {
   "display_name": "Octave",
   "language": "octave",
   "name": "octave"
  },
  "language_info": {
   "file_extension": ".m",
   "help_links": [
    {
     "text": "GNU Octave",
     "url": "https://www.gnu.org/software/octave/support.html"
    },
    {
     "text": "Octave Kernel",
     "url": "https://github.com/Calysto/octave_kernel"
    },
    {
     "text": "MetaKernel Magics",
     "url": "https://metakernel.readthedocs.io/en/latest/source/README.html"
    }
   ],
   "mimetype": "text/x-octave",
   "name": "octave",
   "version": "4.2.2"
  }
 },
 "nbformat": 4,
 "nbformat_minor": 5
}
