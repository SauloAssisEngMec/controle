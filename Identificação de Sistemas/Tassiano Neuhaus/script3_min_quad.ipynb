{
 "cells": [
  {
   "cell_type": "markdown",
   "id": "76f8ffbf-967c-4db1-9ec2-54fc9fc6a026",
   "metadata": {},
   "source": [
    "# Script para Simulac¸ao do método dos minimos quadrados considerando o PID\n",
    "Conforme código disponibilizado em https://github.com/tassianors/ident_sistemas"
   ]
  },
  {
   "cell_type": "code",
   "execution_count": 1,
   "id": "81f37ea2-6a5b-480b-a93c-6ad5510f430f",
   "metadata": {},
   "outputs": [
    {
     "name": "stdout",
     "output_type": "stream",
     "text": [
      "ma =  0.017292\n",
      "mb =  0.82180\n",
      "mc =  0.93323\n"
     ]
    }
   ],
   "source": [
    "%====================================\n",
    "% Identificacao de sistemas\n",
    "% Tassiano Neuhaus\n",
    "% tassianors@gmail.com\n",
    "% UFRGS\n",
    "%====================================\n",
    "close all; clear all;\n",
    "\n",
    "% LOAD DATA\n",
    "data7\n",
    "\n",
    "% Defines\n",
    "% Number or unknown variables to be determined by this method\n",
    "n=4;\n",
    "step_size=150;\n",
    "N=0;\n",
    "j=1;\n",
    "\n",
    "% Total number of points collected\n",
    "Ntot=size(value, 1);\n",
    "\n",
    "while N+step_size <= Ntot\n",
    "    % load partial number of points\n",
    "    y=value(N+1:N+step_size,1);\n",
    "    u=value(N+1:N+step_size,2);\n",
    "\n",
    "    phy=zeros(step_size, n);\n",
    "    z=zeros(step_size, n);\n",
    "    for t=3:step_size\n",
    "        phy(t, 1)=u(t-1);\n",
    "        phy(t, 2)=u(t-2);\n",
    "        phy(t, 3)=y(t-1);\n",
    "        phy(t, 4)=y(t-2);\n",
    "    end\n",
    "    \n",
    "    % make sure, rank(phy) = n\n",
    "    teta=inv(phy'*phy)*phy'*y;\n",
    "    % to be used in graphic plotting\n",
    "    a(j)=teta(1)/5;\n",
    "    b(j)=-teta(4);\n",
    "    c(j)=teta(3)-b(j);\n",
    "    j=j+1;\n",
    "    N=N+step_size;\n",
    "end\n",
    "\n",
    "PN=[a', b'];\n",
    "ma=mean(a)\n",
    "mb=mean(b)\n",
    "mc=mean(c)"
   ]
  },
  {
   "cell_type": "code",
   "execution_count": 3,
   "id": "6b49aff5-73c7-4050-b3b0-6fb1d91eef5a",
   "metadata": {},
   "outputs": [
    {
     "name": "stdout",
     "output_type": "stream",
     "text": [
      "warning: legend: ignoring extra labels\n",
      "warning: called from\n",
      "    legend at line 432 column 9\n"
     ]
    }
   ],
   "source": [
    "% from here is only to plot the estimated points\n",
    "graphics_toolkit (\"gnuplot\");\n",
    "plot(a, b, 'bo');\n",
    "set(gcf,'Visible','on')\n",
    "hold;\n",
    "plot(ma, mb, 'rx');\n",
    "hold;\n",
    "title('Estimativa usando o metodo dos min quadrados. Ref rampa, N=150')\n",
    "xlabel('Valor da estimativa para a variavel a')\n",
    "ylabel('Valor da estimativa para a variavel b')\n",
    "legend('Estimativas', 'Media')"
   ]
  },
  {
   "cell_type": "code",
   "execution_count": null,
   "id": "b81a1fec-c336-466a-b598-81df612cd1ca",
   "metadata": {},
   "outputs": [],
   "source": []
  }
 ],
 "metadata": {
  "kernelspec": {
   "display_name": "Octave",
   "language": "octave",
   "name": "octave"
  },
  "language_info": {
   "file_extension": ".m",
   "help_links": [
    {
     "text": "GNU Octave",
     "url": "https://www.gnu.org/software/octave/support.html"
    },
    {
     "text": "Octave Kernel",
     "url": "https://github.com/Calysto/octave_kernel"
    },
    {
     "text": "MetaKernel Magics",
     "url": "https://metakernel.readthedocs.io/en/latest/source/README.html"
    }
   ],
   "mimetype": "text/x-octave",
   "name": "octave",
   "version": "4.2.2"
  }
 },
 "nbformat": 4,
 "nbformat_minor": 5
}
