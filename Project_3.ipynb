{
 "cells": [
  {
   "cell_type": "markdown",
   "metadata": {},
   "source": [
    "# MATH 218 Differential Equations Project 3\n",
    "## Morgan Baxter\n",
    "\n",
    "This notebook contains code for finding the inverse Laplace transform of certain functions. The most flexible function is inverse_laplace_3(), the other two work for some expressions but not others. Examples of F(s) that inverse_laplace_3() cannot compute can be found at the bottom."
   ]
  },
  {
   "cell_type": "code",
   "execution_count": 1,
   "metadata": {},
   "outputs": [],
   "source": [
    "from sympy import *\n",
    "from IPython.display import display, Markdown, Latex"
   ]
  },
  {
   "cell_type": "code",
   "execution_count": 2,
   "metadata": {},
   "outputs": [],
   "source": [
    "# function for partial fraction decomposition\n",
    "def pfd(expression):\n",
    "    inv = sympify(expression).apart().expand()\n",
    "    return inv"
   ]
  },
  {
   "cell_type": "code",
   "execution_count": 3,
   "metadata": {},
   "outputs": [
    {
     "data": {
      "text/latex": [
       "$\\displaystyle \\frac{2 s}{s^{2} + 1} - \\frac{2}{3 \\left(s^{2} + 4\\right)} + \\frac{5}{3 \\left(s^{2} + 1\\right)}$"
      ],
      "text/plain": [
       "2*s/(s**2 + 1) - 2/(3*(s**2 + 4)) + 5/(3*(s**2 + 1))"
      ]
     },
     "execution_count": 3,
     "metadata": {},
     "output_type": "execute_result"
    }
   ],
   "source": [
    "pfd('(2*s^3 + s^2 + 8*s + 6)/((s^2 + 1)*(s^2+4))')"
   ]
  },
  {
   "cell_type": "code",
   "execution_count": 4,
   "metadata": {},
   "outputs": [],
   "source": [
    "#works for '1/((s**2 + 1)*(s-2))'\n",
    "\n",
    "def inverse_laplace_1(expression):\n",
    "    i_l = pfd(expression)\n",
    "    solution = 'empty!'\n",
    "    for arg in i_l.args:\n",
    "        k = 0\n",
    "        while srepr(arg.args[k])[0:3] == \"Rat\":\n",
    "            k += 1\n",
    "        s_p = srepr(arg.args).split(',')\n",
    "        vals = []\n",
    "        for s in s_p:\n",
    "            digit_list = [s for s in s if s.isdigit() or s == '-']\n",
    "            if len(digit_list) != 0:\n",
    "                vals.append(sympify(''.join(digit_list)))\n",
    "            else:\n",
    "                vals.append(' ')\n",
    "        if s_p[2] == \" Pow(Add(Pow(Symbol('s')\":\n",
    "            if vals[4] > 0 and sqrt(vals[4]) != abs(vals[0]):\n",
    "                sub_term = 'cos(' + str(sqrt(vals[4])) + '*t)'\n",
    "                sub_term = sympify(arg.args[0])*sympify(sub_term)\n",
    "                #print(sub_term)\n",
    "            if vals[3] < 0 and sqrt(abs(vals[3])) == vals[0]:\n",
    "                print('this is a hyperbolic sine!')\n",
    "            if vals[3] < 0 and sqrt(abs(vals[3])) != vals[0]:\n",
    "                print('this is a hyperbolic cosine!')\n",
    "            \n",
    "        if s_p[3] == \" Pow(Add(Pow(Symbol('s')\":\n",
    "            if int(vals[5]) > 0 and sqrt(vals[5]) == abs(vals[0]):\n",
    "                sub_term = 'sin(' + str(sqrt(vals[5])) + '*t)'\n",
    "                sub_term = sympify(arg.args[0])*sympify(sub_term)\n",
    "                #print(sub_term)\n",
    "            \n",
    "        if s_p[2] == \" Pow(Add(Symbol('s')\" and len(vals) == 5:\n",
    "            if int(vals[4]) == -1:\n",
    "                sub_term = 'exp(' + str(-int(vals[3])) + '*t)'\n",
    "                sub_term = sympify(arg.args[0])*sympify(sub_term)\n",
    "                #print(sub_term)\n",
    "            \n",
    "        if solution == 'empty!':\n",
    "            solution = sympify(sub_term)\n",
    "        else:\n",
    "            solution = solution + sub_term\n",
    "    \n",
    "    \n",
    "    input_expr_l = latex(sympify(expression),itex=true,mode='plain')\n",
    "    pfd_l = latex(i_l,itex=true,mode='plain')\n",
    "    solution_l = latex(solution,itex=true,mode='plain')\n",
    "    latex_display = '$\\mathscr{L}^{-1}\\\\Big(' + input_expr_l + '\\\\Big) = \\mathscr{L}^{-1}\\\\Big(' + pfd_l + '\\\\Big) = '+ solution_l + '$'\n",
    "    display(Latex(latex_display))\n",
    "    pass"
   ]
  },
  {
   "cell_type": "code",
   "execution_count": 5,
   "metadata": {},
   "outputs": [
    {
     "data": {
      "text/latex": [
       "$\\mathscr{L}^{-1}\\Big(\\frac{1}{\\left(s - 2\\right) \\left(s^{2} + 1\\right)}\\Big) = \\mathscr{L}^{-1}\\Big(- \\frac{s}{5 \\left(s^{2} + 1\\right)} - \\frac{2}{5 \\left(s^{2} + 1\\right)} + \\frac{1}{5 \\left(s - 2\\right)}\\Big) = \\frac{e^{2 t}}{5} - \\frac{\\sin{\\left(t \\right)}}{5} - \\frac{2 \\cos{\\left(t \\right)}}{5}$"
      ],
      "text/plain": [
       "<IPython.core.display.Latex object>"
      ]
     },
     "metadata": {},
     "output_type": "display_data"
    }
   ],
   "source": [
    "inverse_laplace_1('1/((s**2 + 1)*(s-2))')"
   ]
  },
  {
   "cell_type": "code",
   "execution_count": 6,
   "metadata": {},
   "outputs": [
    {
     "ename": "IndentationError",
     "evalue": "expected an indented block (<ipython-input-6-fc1bf9421584>, line 8)",
     "output_type": "error",
     "traceback": [
      "\u001b[1;36m  File \u001b[1;32m\"<ipython-input-6-fc1bf9421584>\"\u001b[1;36m, line \u001b[1;32m8\u001b[0m\n\u001b[1;33m    elif str(pfd.func).find('Mul') != -1:\u001b[0m\n\u001b[1;37m    ^\u001b[0m\n\u001b[1;31mIndentationError\u001b[0m\u001b[1;31m:\u001b[0m expected an indented block\n"
     ]
    }
   ],
   "source": [
    "def inverse_laplace_2(expression):\n",
    "    # carry out partial fraction decomposition on input expression\n",
    "    pfd = sympify(expression).apart().expand()\n",
    "    # determine top-level function of decomposed expression\n",
    "    if str(pfd.func).find('Add') != -1:\n",
    "        \n",
    "        \n",
    "    elif str(pfd.func).find('Mul') != -1:\n",
    "        \n",
    "    elif str(pfd.func).find('Pow') != -1:\n",
    "        \n",
    "        \n",
    "        \n",
    "        \n",
    "    for arg in srepr(i_l).split(','):\n",
    "        new_term = False\n",
    "        numerator_offset = 0\n",
    "        first_symbolic_index = 'empty'\n",
    "        s_p = arg\n",
    "        print('s_p = ' + str(s_p))\n",
    "        vals = []\n",
    "        k = 0\n",
    "        for s in arg.split(','):\n",
    "            digit_list = [s for s in s if s.isdigit() or s == '-']\n",
    "            if len(digit_list) != 0:\n",
    "                vals.append(sympify(''.join(digit_list)))\n",
    "            else:\n",
    "                vals.append(' ')\n",
    "                if first_symbolic_index == 'empty':\n",
    "                    first_symbolic_index = k\n",
    "            k += 1\n",
    "        if vals[0] == -1:\n",
    "            numerator_offset = 1\n",
    "        print('vals = ' + str(vals))\n",
    "        print('s_p[first_symbolic_index] = ' + s_p[first_symbolic_index])\n",
    "        if s_p[first_symbolic_index] == \" Pow(Add(Pow(Symbol('s')\":\n",
    "            if vals[first_symbolic_index + 2] > 0:\n",
    "                sub_term = 'sin(' + str(sqrt(vals[first_symbolic_index + 2])) + '*t)'\n",
    "                sub_term = sympify(arg.args[0]/sqrt(vals[first_symbolic_index + 2]))*sympify(sub_term)\n",
    "                print('sub_term: ' + str(sub_term))\n",
    "                new_term = True\n",
    "            if vals[first_symbolic_index + 2] < 0:\n",
    "                sub_term = 'sinh(' + str(sqrt(vals[first_symbolic_index + 2])) + '*t)'\n",
    "                sub_term = sympify(arg.args[0]/sqrt(vals[first_symbolic_index + 2]))*sympify(sub_term)\n",
    "                print('sub_term: ' + str(sub_term))\n",
    "                new_term = True\n",
    "            \n",
    "        elif s_p[first_symbolic_index] == \" Symbol('s')\" or s_p[first_symbolic_index] == \"Symbol('s')\":\n",
    "            if s_p[first_symbolic_index + 1] == \" Pow(Add(Pow(Symbol('s')\":\n",
    "                if vals[first_symbolic_index + 3] > 0:\n",
    "                    sub_term = 'cos(' + str(sqrt(vals[first_symbolic_index + 3])) + '*t)'\n",
    "                    sub_term = sympify(arg.args[0]/sqrt(vals[first_symbolic_index + 3]))*sympify(sub_term)\n",
    "                    print('sub_term: ' + str(sub_term))\n",
    "                    new_term = True\n",
    "                if vals[first_symbolic_index + 3] < 0:\n",
    "                    sub_term = 'cos(' + str(sqrt(vals[first_symbolic_index + 3])) + '*t)'\n",
    "                    sub_term = sympify(arg.args[0]/sqrt(vals[first_symbolic_index + 3]))*sympify(sub_term)\n",
    "                    print('sub_term: ' + str(sub_term))\n",
    "                    new_term = True\n",
    "                    \n",
    "        elif s_p[first_symbolic_index] == \" Pow(Add(Symbol('s')\":\n",
    "            sub_term = 'exp(' + str(-vals[first_symbolic_index + 1]) + '*t)'\n",
    "            sub_term = sympify(arg.args[0])*sympify(sub_term)\n",
    "            print('sub_term: ' + str(sub_term))\n",
    "            new_term = True\n",
    "        \n",
    "        \n",
    "        # Check for a straightforward power of s, ie s^-1, s^-2, s^2\n",
    "        elif s_p[first_symbolic_index] == \" Pow(Symbol('s')\" or s_p[first_symbolic_index] == \"Pow(Symbol('s')\":\n",
    "            print('vals[first_symbolic_index + 1] = ' + str(vals[first_symbolic_index + 1]))\n",
    "            print(vals)\n",
    "            if vals[first_symbolic_index + 1] == -1:\n",
    "                sub_term = sympify(i_l.args[0])\n",
    "            else:\n",
    "                sub_term = 't**' + str(-(vals[first_symbolic_index + 1] + 1)) + '/' + str(-(vals[first_symbolic_index + 1] + 1))\n",
    "                sub_term = sympify(arg.args[0])*sympify(sub_term)\n",
    "            print('sub_term: ' + str(sub_term))\n",
    "            new_term = True\n",
    "        \n",
    "        if solution == 'empty!':\n",
    "            solution = sympify(sub_term)\n",
    "        elif new_term:\n",
    "            solution = solution + sub_term\n",
    "    \n",
    "    input_expr_l = latex(sympify(expression),itex=true,mode='plain')\n",
    "    pfd_l = latex(i_l,itex=true,mode='plain')\n",
    "    solution_l = latex(simplify(solution),itex=true,mode='plain')\n",
    "    latex_display = '$\\mathscr{L}^{-1}\\\\Big(' + input_expr_l + '\\\\Big) = \\mathscr{L}^{-1}\\\\Big(' + pfd_l + '\\\\Big) = '+ solution_l + '$'\n",
    "    display(Latex(latex_display))\n",
    "    pass"
   ]
  },
  {
   "cell_type": "code",
   "execution_count": null,
   "metadata": {},
   "outputs": [],
   "source": [
    "def power_conversion(expression):\n",
    "    power = -int(expression.args[1])\n",
    "    if power == 1:\n",
    "        inverse = 1\n",
    "    else:\n",
    "        inverse = sympify((t**(power-1))/(factorial(power-1)))\n",
    "    return inverse\n",
    "\n",
    "def sine_conversion(expression):\n",
    "    terms = str(expression.args).split(',')\n",
    "    if terms[0].find('+') != -1:\n",
    "        b_sqr = int(terms[0].split('+')[1])\n",
    "        inverse = sympify(sin(sqrt(b_sqr)*t)/sqrt(b_sqr))\n",
    "    elif terms[0].find('-') != -1:\n",
    "        b_sqr = int(terms[0].split('-')[1])\n",
    "        inverse = sympify(sinh(sqrt(b_sqr)*t)/sqrt(b_sqr))\n",
    "    return inverse\n",
    "\n",
    "def cosine_conversion(expression):\n",
    "    terms = str(expression.args).split(',')\n",
    "    if terms[0].find('+') != -1:\n",
    "        b_sqr = int(terms[0].split('+')[1])\n",
    "        inverse = sympify(cos(sqrt(b_sqr)*t))\n",
    "    elif terms[0].find('-') != -1:\n",
    "        b_sqr = int(terms[0].split('-')[1])\n",
    "        inverse = sympify(cosh(sqrt(b_sqr)*t))\n",
    "    return inverse\n",
    "\n",
    "def exponential_conversion(expression):\n",
    "    terms = str(expression.args).split(',')\n",
    "    if terms[0].find('+') != -1:\n",
    "        b_sqr = int(terms[0].split('+')[1])\n",
    "        inverse = sympify(exp(-b_sqr*t))\n",
    "    elif terms[0].find('-') != -1:\n",
    "        b_sqr = int(terms[0].split('-')[1])\n",
    "        inverse = sympify(exp(b_sqr*t))\n",
    "    return inverse"
   ]
  },
  {
   "cell_type": "code",
   "execution_count": null,
   "metadata": {},
   "outputs": [],
   "source": [
    "power_conversion(1/s)"
   ]
  },
  {
   "cell_type": "code",
   "execution_count": null,
   "metadata": {},
   "outputs": [],
   "source": [
    "power_conversion(1/s**2)"
   ]
  },
  {
   "cell_type": "code",
   "execution_count": null,
   "metadata": {},
   "outputs": [],
   "source": [
    "sine_conversion(1/(s**2 + 4))"
   ]
  },
  {
   "cell_type": "code",
   "execution_count": null,
   "metadata": {},
   "outputs": [],
   "source": [
    "sine_conversion(1/(s**2 - 4))"
   ]
  },
  {
   "cell_type": "code",
   "execution_count": null,
   "metadata": {},
   "outputs": [],
   "source": [
    "cosine_conversion(1/(s**2 - 4))"
   ]
  },
  {
   "cell_type": "code",
   "execution_count": null,
   "metadata": {},
   "outputs": [],
   "source": [
    "cosine_conversion(1/(s**2 + 4))"
   ]
  },
  {
   "cell_type": "code",
   "execution_count": null,
   "metadata": {},
   "outputs": [],
   "source": [
    "exponential_conversion(1/(s+4))"
   ]
  },
  {
   "cell_type": "code",
   "execution_count": null,
   "metadata": {},
   "outputs": [],
   "source": [
    "def power_parse(power_term):\n",
    "    if type(power_term) == tuple:\n",
    "        if len(power_term) == 2:\n",
    "            solution = cosine_conversion(power_term[1])\n",
    "            return solution\n",
    "    if type(power_term) == Pow:    \n",
    "        if len(power_term.args[0].args) == 0:\n",
    "            solution = power_conversion(power_term)\n",
    "        elif len(power_term.args[0].args) == 2:\n",
    "            if str(power_term.args[0].args[1].func).find('Pow') != -1:\n",
    "                solution = sine_conversion(power_term)\n",
    "            else:\n",
    "                solution = exponential_conversion(power_term[0])\n",
    "    elif type(power_term) == tuple:  \n",
    "        if len(power_term[0].args[0].args) == 0:\n",
    "            solution = power_conversion(power_term[0])\n",
    "        elif len(power_term[0].args[0].args) == 2:\n",
    "            if str(power_term[0].args[0].args[1].func).find('Pow') != -1:\n",
    "                solution = sine_conversion(power_term[0])\n",
    "            else:\n",
    "                solution = exponential_conversion(power_term[0])\n",
    "    else:\n",
    "        print(\"hmm, this doesn't work.\")\n",
    "    return(solution)\n",
    "\n",
    "def mul_parse(mul_term):\n",
    "    coeff =  mul_term.args[0]\n",
    "    transform = power_parse(mul_term.args[1:])\n",
    "    solution = coeff*transform\n",
    "    return(solution)"
   ]
  },
  {
   "cell_type": "code",
   "execution_count": null,
   "metadata": {
    "scrolled": true
   },
   "outputs": [],
   "source": [
    "mul_parse(pfd('6*s/(4*((s**2)+1))'))"
   ]
  },
  {
   "cell_type": "code",
   "execution_count": null,
   "metadata": {},
   "outputs": [],
   "source": [
    "def inverse_laplace_3(expression):\n",
    "    # carry out partial fraction decomposition on input expression\n",
    "    pfd = sympify(expression).apart().expand()\n",
    "    # determines top-level function of decomposed expression\n",
    "    # if there are multiple terms after PFD, \n",
    "    if str(pfd.func).find('Add') != -1:\n",
    "        solution = 'empty'\n",
    "        for arg in pfd.args:\n",
    "            if str(arg.func).find('Mul') != -1:\n",
    "                temp_solution = mul_parse(arg)\n",
    "            elif str(arg.func).find('Pow') != -1:\n",
    "                temp_solution = power_parse(arg)\n",
    "            # adds output \n",
    "            if solution == 'empty':\n",
    "                solution = temp_solution\n",
    "            else:\n",
    "                solution = solution + temp_solution\n",
    "    # runs if only term in input expression is coefficient + power term\n",
    "    elif str(pfd.func).find('Mul') != -1:\n",
    "        solution = mul_parse(pfd)\n",
    "    # runs if only term in input expression is power term\n",
    "    elif str(pfd.func).find('Pow') != -1:\n",
    "        solution = power_parse(pfd)\n",
    "    # code for turning SymPy objects into LaTeX expressions\n",
    "    input_expr_l = latex(sympify(expression),itex=true,mode='plain')\n",
    "    pfd_l = latex(pfd,itex=true,mode='plain')\n",
    "    solution_l = latex(simplify(solution),itex=true,mode='plain')\n",
    "    # only display results of PFD if they differ from input expression\n",
    "    if pfd != sympify(expression):\n",
    "        latex_display = '$\\mathscr{L}^{-1}\\\\Big(' + input_expr_l + '\\\\Big) = \\mathscr{L}^{-1}\\\\Big(' + pfd_l + '\\\\Big) = '+ solution_l + '$'\n",
    "    else:\n",
    "        latex_display = '$\\mathscr{L}^{-1}\\\\Big(' + input_expr_l + '\\\\Big) = '+ solution_l + '$'\n",
    "    display(Latex(latex_display))\n",
    "    pass"
   ]
  },
  {
   "cell_type": "code",
   "execution_count": null,
   "metadata": {},
   "outputs": [],
   "source": [
    "inverse_laplace_3('1/(s**2 + 4)')"
   ]
  },
  {
   "cell_type": "code",
   "execution_count": null,
   "metadata": {},
   "outputs": [],
   "source": [
    "inverse_laplace_3('4/(3*(s + 4))')"
   ]
  },
  {
   "cell_type": "code",
   "execution_count": null,
   "metadata": {},
   "outputs": [],
   "source": [
    "inverse_laplace_3('4/(6*(s**2 + 4))')"
   ]
  },
  {
   "cell_type": "code",
   "execution_count": null,
   "metadata": {},
   "outputs": [],
   "source": [
    "inverse_laplace_3('-2/(5*(s**2 + 1))')"
   ]
  },
  {
   "cell_type": "code",
   "execution_count": null,
   "metadata": {},
   "outputs": [],
   "source": [
    "inverse_laplace_3('1/((s**2 + 1)*(s-2))')"
   ]
  },
  {
   "cell_type": "code",
   "execution_count": null,
   "metadata": {},
   "outputs": [],
   "source": [
    "inverse_laplace_3('(2*s^3 + s^2 + 8*s + 6)/((s^2 + 1)*(s^2+4))')"
   ]
  },
  {
   "cell_type": "code",
   "execution_count": null,
   "metadata": {
    "scrolled": true
   },
   "outputs": [],
   "source": [
    "inverse_laplace_3('1/((s**2 + 1)*(s-2))')"
   ]
  },
  {
   "cell_type": "code",
   "execution_count": null,
   "metadata": {},
   "outputs": [],
   "source": [
    "inverse_laplace_3('-(3*s+9)/(s**2 + 81)')"
   ]
  },
  {
   "cell_type": "code",
   "execution_count": null,
   "metadata": {
    "scrolled": true
   },
   "outputs": [],
   "source": [
    "inverse_laplace_3('(2*s + 7)/(s**2 -6*s + 13)')"
   ]
  },
  {
   "cell_type": "code",
   "execution_count": null,
   "metadata": {},
   "outputs": [],
   "source": [
    "inverse_laplace_3('(2*s**2 + 10*s)/((s**2 - 2*s + 5)*(s + 1))')"
   ]
  }
 ],
 "metadata": {
  "kernelspec": {
   "display_name": "Python 3",
   "language": "python",
   "name": "python3"
  },
  "language_info": {
   "codemirror_mode": {
    "name": "ipython",
    "version": 3
   },
   "file_extension": ".py",
   "mimetype": "text/x-python",
   "name": "python",
   "nbconvert_exporter": "python",
   "pygments_lexer": "ipython3",
   "version": "3.8.5"
  }
 },
 "nbformat": 4,
 "nbformat_minor": 1
}
